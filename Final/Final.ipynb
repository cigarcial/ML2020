{
 "cells": [
  {
   "cell_type": "markdown",
   "metadata": {},
   "source": [
    "# Aprendizaje de Máquina - Proyecto Final\n",
    "## Ciro Iván García López\n"
   ]
  },
  {
   "cell_type": "markdown",
   "metadata": {},
   "source": [
    "Librerias necesarias para la lectura y manejo de los datos.\n",
    "- pandas : encargada de construir, leer y manipular el conjunto de datos.\n",
    "- numpy : se encarga del casteo de tipos, es decir convertir todo a float64.\n",
    "- mathplotlib : permite generar gráficas a partir de un conjunto de datos. \n",
    "- seaborn : permite generar el mapa de calor para la correlación de los datos.\n",
    "- scipy : libreria de herramientas estadisticas. \n",
    "- sklearn : libreria de herramientas para aprendizaje. \n",
    "- keras : librería para el manejo de redes neuronales"
   ]
  },
  {
   "cell_type": "code",
   "execution_count": 1,
   "metadata": {},
   "outputs": [],
   "source": [
    "import pandas as pd\n",
    "import numpy as np\n",
    "import matplotlib.pyplot as plt\n",
    "import seaborn as sns\n",
    "import numpy.polynomial.polynomial as poly\n",
    "import keras\n",
    "import math\n",
    "\n",
    "from sklearn.linear_model import Lasso\n",
    "from keras.models import Sequential\n",
    "from keras.layers import Dense\n",
    "from keras.wrappers.scikit_learn import KerasClassifier\n",
    "from sklearn.model_selection import KFold\n",
    "from sklearn.model_selection import cross_val_score\n",
    "from sklearn.model_selection import GridSearchCV\n",
    "from keras.utils import to_categorical\n",
    "from numpy.random import seed\n",
    "from numpy.random import randn\n",
    "seed(1)\n"
   ]
  },
  {
   "cell_type": "markdown",
   "metadata": {},
   "source": [
    "Funciones auxiliares para la creación de DataFrames\n",
    "- dfBuild : construye un DataFrame dado un arreglo\n",
    "- dfBuildIny : construye un DataFrame dado un arreglo($dt$) y una potencia($n$), el dataframe resultante tendrá la forma: $\\mid dt \\mid dt^2 \\mid ... \\mid dt^n $"
   ]
  },
  {
   "cell_type": "code",
   "execution_count": 2,
   "metadata": {},
   "outputs": [],
   "source": [
    "def dfBuild(dt):\n",
    "    return pd.DataFrame(data={\"x1\":dt})\n",
    "\n",
    "def dfBuildIny(dt,t):\n",
    "    df = pd.DataFrame()\n",
    "    for i in range(0,t):\n",
    "        s = \"x\"+str(i+1)\n",
    "        df.insert(i,s,dt**(i+1))\n",
    "    return df"
   ]
  },
  {
   "cell_type": "markdown",
   "metadata": {},
   "source": [
    "Funciones auxiliares para el cálculo de RSS y AIC, versión polinomial y por predicción."
   ]
  },
  {
   "cell_type": "code",
   "execution_count": 3,
   "metadata": {},
   "outputs": [],
   "source": [
    "def getRA(x, y, model,M):\n",
    "    RSS = 0.5*np.sum((y-model(x))**2)\n",
    "    AIC = len(x)*math.log10(RSS/len(x))+ 2*M*len(x)/(len(x)-M-1)\n",
    "    return RSS,AIC\n",
    "\n",
    "def getRAP(x, y, model,M):\n",
    "    RSS = 0.5*np.sum( (y-model.predict(dfBuildIny(x,M)))**2 )\n",
    "    AIC = len(x)*math.log10(RSS/len(x)) + 2*M*len(x)/(len(x)-M-1)\n",
    "    return RSS,AIC"
   ]
  },
  {
   "cell_type": "markdown",
   "metadata": {},
   "source": [
    "Algunos parámetros de configuración globales. Se tiene una configuración por defecto, la cual puede producir un desempeño pobre de los resultados."
   ]
  },
  {
   "cell_type": "code",
   "execution_count": 242,
   "metadata": {},
   "outputs": [],
   "source": [
    "#Configuración de los mensajes para las redes, 0 : sin mensajes.\n",
    "verboseOp = 0\n",
    "#Número de Epochs para el punto dos.\n",
    "epochsDos = 10\n",
    "#Número de Epochs para el punto tres.\n",
    "epochsTres = 10\n",
    "#Número de Epochs para el punto cuatro.\n",
    "epochsCuatro = 10\n",
    "#Tamaño del conjunto de datos de entrenamiento y validación para el punto 4.\n",
    "trainSize = 50\n",
    "testSize = 50"
   ]
  },
  {
   "cell_type": "markdown",
   "metadata": {},
   "source": [
    "## Punto 1"
   ]
  },
  {
   "cell_type": "markdown",
   "metadata": {},
   "source": [
    "### Lectura y preparación de los datos.\n",
    "Se hace la lectura de los datos así como la preparación de los mismos. Para este problema tanto los datos de entrenamiento como de validación se encuentran en el archivo *problem1.csv*."
   ]
  },
  {
   "cell_type": "code",
   "execution_count": 4,
   "metadata": {
    "scrolled": false
   },
   "outputs": [
    {
     "data": {
      "text/html": [
       "<div>\n",
       "<style scoped>\n",
       "    .dataframe tbody tr th:only-of-type {\n",
       "        vertical-align: middle;\n",
       "    }\n",
       "\n",
       "    .dataframe tbody tr th {\n",
       "        vertical-align: top;\n",
       "    }\n",
       "\n",
       "    .dataframe thead th {\n",
       "        text-align: right;\n",
       "    }\n",
       "</style>\n",
       "<table border=\"1\" class=\"dataframe\">\n",
       "  <thead>\n",
       "    <tr style=\"text-align: right;\">\n",
       "      <th></th>\n",
       "      <th>X_training</th>\n",
       "      <th>Y_training</th>\n",
       "      <th>X_test</th>\n",
       "      <th>Y_test</th>\n",
       "    </tr>\n",
       "  </thead>\n",
       "  <tbody>\n",
       "    <tr>\n",
       "      <th>0</th>\n",
       "      <td>-2.00</td>\n",
       "      <td>22.067387</td>\n",
       "      <td>2.00</td>\n",
       "      <td>6.024049</td>\n",
       "    </tr>\n",
       "    <tr>\n",
       "      <th>1</th>\n",
       "      <td>-1.97</td>\n",
       "      <td>19.944915</td>\n",
       "      <td>2.05</td>\n",
       "      <td>6.885408</td>\n",
       "    </tr>\n",
       "    <tr>\n",
       "      <th>2</th>\n",
       "      <td>-1.94</td>\n",
       "      <td>18.062490</td>\n",
       "      <td>2.10</td>\n",
       "      <td>7.578968</td>\n",
       "    </tr>\n",
       "  </tbody>\n",
       "</table>\n",
       "</div>"
      ],
      "text/plain": [
       "   X_training  Y_training  X_test    Y_test\n",
       "0       -2.00   22.067387    2.00  6.024049\n",
       "1       -1.97   19.944915    2.05  6.885408\n",
       "2       -1.94   18.062490    2.10  7.578968"
      ]
     },
     "execution_count": 4,
     "metadata": {},
     "output_type": "execute_result"
    }
   ],
   "source": [
    "archivoUno = 'problem1.csv'\n",
    "datosUno = pd.read_csv(archivoUno)\n",
    "datosUno.head(3)"
   ]
  },
  {
   "cell_type": "markdown",
   "metadata": {},
   "source": [
    "Se separan los datos para las regresiones Lasso y Polynomial. Se comienza creando los arreglos con los datos de entranemiento"
   ]
  },
  {
   "cell_type": "code",
   "execution_count": 5,
   "metadata": {
    "scrolled": false
   },
   "outputs": [
    {
     "data": {
      "text/plain": [
       "0   -2.00\n",
       "1   -1.97\n",
       "2   -1.94\n",
       "Name: X_training, dtype: float64"
      ]
     },
     "execution_count": 5,
     "metadata": {},
     "output_type": "execute_result"
    }
   ],
   "source": [
    "#Datos originales para x, en arreglo\n",
    "xTrainUno = datosUno[\"X_training\"]\n",
    "yTrainUno = datosUno[\"Y_training\"]\n",
    "xTrainUno.head(3)"
   ]
  },
  {
   "cell_type": "markdown",
   "metadata": {},
   "source": [
    "Separación de los datos de validación. Observe la intrucción *dropna*; la lectura del archivo introduce estos valores, pero no hacen parte del archivo de datos csv."
   ]
  },
  {
   "cell_type": "code",
   "execution_count": 6,
   "metadata": {},
   "outputs": [
    {
     "data": {
      "text/plain": [
       "0    2.00\n",
       "1    2.05\n",
       "2    2.10\n",
       "Name: X_test, dtype: float64"
      ]
     },
     "execution_count": 6,
     "metadata": {},
     "output_type": "execute_result"
    }
   ],
   "source": [
    "#Datos originales para x, en arreglo\n",
    "xTestUno = datosUno[\"X_test\"].dropna()\n",
    "yTestUno = datosUno[\"Y_test\"].dropna()\n",
    "xTestUno.head(3)"
   ]
  },
  {
   "cell_type": "markdown",
   "metadata": {},
   "source": [
    "### Gráfica de los datos. "
   ]
  },
  {
   "cell_type": "markdown",
   "metadata": {},
   "source": [
    "Se grafican los datos para conocer su comportamiento."
   ]
  },
  {
   "cell_type": "code",
   "execution_count": 7,
   "metadata": {},
   "outputs": [
    {
     "data": {
      "image/png": "[encoded data removed]",
      "text/plain": [
       "<Figure size 576x432 with 1 Axes>"
      ]
     },
     "metadata": {
      "needs_background": "light"
     },
     "output_type": "display_data"
    }
   ],
   "source": [
    "plt.figure(figsize=(8, 6))\n",
    "plt.title(\"Gráfica de los datos\")\n",
    "plt.plot(xTrainUno, yTrainUno, '-o', label=\"Entrenamiento\")\n",
    "plt.plot(xTestUno,yTestUno, '-o', label=\"Validación\")\n",
    "plt.ylabel(\"Y\")\n",
    "plt.xlabel(\"X\")\n",
    "plt.legend(loc='best', frameon=False)\n",
    "plt.show()"
   ]
  },
  {
   "cell_type": "markdown",
   "metadata": {},
   "source": [
    "### Regresión usando Polyfit"
   ]
  },
  {
   "cell_type": "markdown",
   "metadata": {},
   "source": [
    "Se procede a hacer una regresión de los datos usando Polyfit con un polinomio de grado arbitrario."
   ]
  },
  {
   "cell_type": "code",
   "execution_count": 10,
   "metadata": {},
   "outputs": [
    {
     "name": "stdout",
     "output_type": "stream",
     "text": [
      "El polinomio para la regresión es:\n"
     ]
    },
    {
     "data": {
      "text/latex": [
       "$x \\mapsto \\text{3.2094225157811866} + \\text{8.098665956841705}\\,x + \\text{0.9182406514459023}\\,x^{2} - \\text{3.0486123349714913}\\,x^{3}$"
      ],
      "text/plain": [
       "Polynomial([ 3.20942252,  8.09866596,  0.91824065, -3.04861233], domain=[-1,  1], window=[-1,  1])"
      ]
     },
     "execution_count": 10,
     "metadata": {},
     "output_type": "execute_result"
    }
   ],
   "source": [
    "coefUno = poly.polyfit(xTrainUno, yTrainUno, 3)\n",
    "modelUno = poly.Polynomial(coefUno)\n",
    "print(\"El polinomio para la regresión es:\")\n",
    "modelUno"
   ]
  },
  {
   "cell_type": "markdown",
   "metadata": {},
   "source": [
    "Se grafica el polinomio obtenido y se contrasta con los datos."
   ]
  },
  {
   "cell_type": "code",
   "execution_count": 11,
   "metadata": {},
   "outputs": [
    {
     "data": {
      "image/png": "[encoded data removed]",
      "text/plain": [
       "<Figure size 432x288 with 1 Axes>"
      ]
     },
     "metadata": {
      "needs_background": "light"
     },
     "output_type": "display_data"
    }
   ],
   "source": [
    "plt.plot(xTestUno, modelUno(xTestUno),'-o', label='Predicción')\n",
    "plt.plot(xTestUno, yTestUno,'-o', label='Validación')\n",
    "plt.xlabel('X')\n",
    "plt.ylabel('Y')\n",
    "plt.legend(loc='best', frameon=False)\n",
    "plt.show()"
   ]
  },
  {
   "cell_type": "markdown",
   "metadata": {},
   "source": [
    "Se observa un resultado pobre por parte del polinomio obtenido."
   ]
  },
  {
   "cell_type": "markdown",
   "metadata": {},
   "source": [
    "### AIC\n",
    "Se buscará el grado del mejor polinomio por medio del criterio AIC."
   ]
  },
  {
   "cell_type": "code",
   "execution_count": 15,
   "metadata": {},
   "outputs": [],
   "source": [
    "#Se define el grado máximo hasta el cual se llega en la búsqueda\n",
    "Pol_Max = 15\n",
    "RSSv = np.zeros(Pol_Max-4)\n",
    "AICv = np.zeros(Pol_Max-4)\n",
    "\n",
    "#Se descartan los valores menores a 3, \n",
    "#pues la gráfica de los datos no tiene un comportamiento de este tipo\n",
    "for i in np.arange(4,Pol_Max,1):\n",
    "    coef = poly.polyfit(xTrainUno, yTrainUno, i)\n",
    "    model = poly.Polynomial(coef)\n",
    "    #Cálculo de RSS Y AIC\n",
    "    rt, at = getRA(xTrainUno,yTrainUno,model,len(coef))\n",
    "    RSSv[i-4] = rt\n",
    "    AICv[i-4] = at    "
   ]
  },
  {
   "cell_type": "markdown",
   "metadata": {},
   "source": [
    "Se grafican los valores obtenidos para el AIC."
   ]
  },
  {
   "cell_type": "code",
   "execution_count": 16,
   "metadata": {
    "scrolled": true
   },
   "outputs": [
    {
     "data": {
      "image/png": "[encoded data removed]",
      "text/plain": [
       "<Figure size 432x288 with 1 Axes>"
      ]
     },
     "metadata": {
      "needs_background": "light"
     },
     "output_type": "display_data"
    }
   ],
   "source": [
    "idx = np.arange(4,Pol_Max,1)\n",
    "plt.plot(idx, AICv,'-o', label='AIC')\n",
    "plt.xlabel('X')\n",
    "plt.ylabel('Y')\n",
    "plt.legend(loc='best', frameon=False)\n",
    "plt.show()"
   ]
  },
  {
   "cell_type": "markdown",
   "metadata": {},
   "source": [
    "Se selecciona el grado con el mejor desempeño en AIC."
   ]
  },
  {
   "cell_type": "code",
   "execution_count": 23,
   "metadata": {},
   "outputs": [
    {
     "name": "stdout",
     "output_type": "stream",
     "text": [
      "El mejor grado es de: 4\n",
      "El mejor AIC es de:  -301.88036630232557\n",
      "El polinomio obtenido es:\n"
     ]
    },
    {
     "data": {
      "text/latex": [
       "$x \\mapsto \\text{6.000059202668198} + \\text{8.029567412979468}\\,x - \\text{5.991414146668373}\\,x^{2} - \\text{3.008694713158232}\\,x^{3} + \\text{1.995881090663002}\\,x^{4}$"
      ],
      "text/plain": [
       "Polynomial([ 6.0000592 ,  8.02956741, -5.99141415, -3.00869471,  1.99588109], domain=[-1,  1], window=[-1,  1])"
      ]
     },
     "execution_count": 23,
     "metadata": {},
     "output_type": "execute_result"
    }
   ],
   "source": [
    "bestGrade = np.argmin(AICv)+4\n",
    "print(\"El mejor grado es de:\",bestGrade)\n",
    "print(\"El mejor AIC es de: \",AICv[bestGrade-4])\n",
    "bestCoef = poly.polyfit(xTrainUno, yTrainUno, bestGrade)\n",
    "bestPoly = poly.Polynomial(bestCoef)\n",
    "print(\"El polinomio obtenido es:\")\n",
    "bestPoly"
   ]
  },
  {
   "cell_type": "markdown",
   "metadata": {},
   "source": [
    "Se grafican los datos de validación vs los valores que obtiene el mejor polinomio."
   ]
  },
  {
   "cell_type": "code",
   "execution_count": 24,
   "metadata": {},
   "outputs": [
    {
     "data": {
      "image/png": "[encoded data removed]",
      "text/plain": [
       "<Figure size 432x288 with 1 Axes>"
      ]
     },
     "metadata": {
      "needs_background": "light"
     },
     "output_type": "display_data"
    }
   ],
   "source": [
    "plt.plot(xTestUno, bestPoly(xTestUno),'-o', label='Predicción')\n",
    "plt.plot(xTestUno, yTestUno,'-o', label='Validación')\n",
    "plt.xlabel('X')\n",
    "plt.ylabel('Y')\n",
    "plt.legend(loc='best', frameon=False)\n",
    "plt.show()"
   ]
  },
  {
   "cell_type": "markdown",
   "metadata": {},
   "source": [
    "### AIC Lasso "
   ]
  },
  {
   "cell_type": "markdown",
   "metadata": {},
   "source": [
    "Se usa una regresión Lasso para observar si se puede obtener alguna mejora. Por lo que entonces se buscará ahora el mejor $\\alpha$."
   ]
  },
  {
   "cell_type": "code",
   "execution_count": 56,
   "metadata": {},
   "outputs": [],
   "source": [
    "#Número de iteracciones.\n",
    "Pol_Max = 1000\n",
    "RSSv = np.zeros(Pol_Max)\n",
    "AICv = np.zeros(Pol_Max)\n",
    "\n",
    "for i in np.arange(0,Pol_Max,1):\n",
    "    lassoTmp = Lasso(alpha=(i+1)/Pol_Max, max_iter=1e9)\n",
    "    lassoTmp.fit(dfBuildIny(xTrainUno,bestGrade), yTrainUno)\n",
    "    #Cálculo de RSS y AIC\n",
    "    rt, at = getRAP(xTrainUno,yTrainUno,lassoTmp,bestGrade)  \n",
    "    RSSv[i] = rt\n",
    "    AICv[i] = at\n"
   ]
  },
  {
   "cell_type": "markdown",
   "metadata": {},
   "source": [
    "Se grafican los valores de AIC obtenidos."
   ]
  },
  {
   "cell_type": "code",
   "execution_count": 57,
   "metadata": {},
   "outputs": [
    {
     "data": {
      "image/png": "[encoded data removed]",
      "text/plain": [
       "<Figure size 432x288 with 1 Axes>"
      ]
     },
     "metadata": {
      "needs_background": "light"
     },
     "output_type": "display_data"
    }
   ],
   "source": [
    "idx = np.arange(0,Pol_Max,1)\n",
    "plt.plot(idx, AICv,'-o', label='AIC')\n",
    "plt.xlabel('X')\n",
    "plt.ylabel('Y')\n",
    "plt.legend(loc='best', frameon=False)\n",
    "plt.show()"
   ]
  },
  {
   "cell_type": "code",
   "execution_count": 58,
   "metadata": {},
   "outputs": [
    {
     "name": "stdout",
     "output_type": "stream",
     "text": [
      "El mejor valor de alpha es: 0.001\n",
      "El mejor AIC es de: -303.8779898079792\n"
     ]
    },
    {
     "data": {
      "text/plain": [
       "Lasso(alpha=0.001, max_iter=1000000000.0)"
      ]
     },
     "execution_count": 58,
     "metadata": {},
     "output_type": "execute_result"
    }
   ],
   "source": [
    "bestAlpha = (np.argmin(AICv)+1)/Pol_Max\n",
    "print(\"El mejor valor de alpha es:\",bestAlpha)\n",
    "print(\"El mejor AIC es de:\",AICv[np.argmin(AICv)])\n",
    "bestLasso = Lasso(alpha=bestAlpha, max_iter=1e9)\n",
    "bestLasso.fit(dfBuildIny(xTrainUno,bestGrade), yTrainUno)"
   ]
  },
  {
   "cell_type": "code",
   "execution_count": 59,
   "metadata": {},
   "outputs": [
    {
     "name": "stdout",
     "output_type": "stream",
     "text": [
      "El polinomio obtenido por Lasso es:\n"
     ]
    },
    {
     "data": {
      "text/latex": [
       "$x \\mapsto \\color{LightGray}{\\text{0.0}} + \\text{8.02345040147509}\\,x - \\text{5.97927884911343}\\,x^{2} - \\text{3.006490763837862}\\,x^{3} + \\text{1.9926189402202719}\\,x^{4}$"
      ],
      "text/plain": [
       "Polynomial([ 0.        ,  8.0234504 , -5.97927885, -3.00649076,  1.99261894], domain=[-1,  1], window=[-1,  1])"
      ]
     },
     "execution_count": 59,
     "metadata": {},
     "output_type": "execute_result"
    }
   ],
   "source": [
    "print(\"El polinomio obtenido por Lasso es:\")\n",
    "poly.Polynomial(np.insert(bestLasso.coef_,0,0))"
   ]
  },
  {
   "cell_type": "code",
   "execution_count": 60,
   "metadata": {},
   "outputs": [
    {
     "data": {
      "image/png": "[encoded data removed]",
      "text/plain": [
       "<Figure size 576x432 with 1 Axes>"
      ]
     },
     "metadata": {
      "needs_background": "light"
     },
     "output_type": "display_data"
    }
   ],
   "source": [
    "plt.figure(figsize=(8, 6))\n",
    "plt.plot(xTestUno, bestLasso.predict(dfBuildIny(xTestUno,bestGrade)),'-o', label='Predicción')\n",
    "plt.plot(xTestUno, yTestUno,'-o', label='Validación')\n",
    "plt.legend(loc='best', frameon=False)\n",
    "plt.xlabel('x1')\n",
    "plt.ylabel('y')\n",
    "plt.show()"
   ]
  },
  {
   "cell_type": "markdown",
   "metadata": {},
   "source": [
    "Por el criterio AIC, no se obtiene mejoria significativa al usar Lasso."
   ]
  },
  {
   "cell_type": "markdown",
   "metadata": {},
   "source": [
    "### Cross Validation \n",
    "Se ejecutan dos evaluaciones cruzadas. Para empezar se evalua el modelo Lasso con el parámetro $\\alpha$ obtenido anteriormente."
   ]
  },
  {
   "cell_type": "code",
   "execution_count": 276,
   "metadata": {},
   "outputs": [
    {
     "name": "stdout",
     "output_type": "stream",
     "text": [
      "Resultados de la validación cruzada: 0.9731587797297578\n"
     ]
    }
   ],
   "source": [
    "print(\"Resultados de la validación cruzada:\",\n",
    "    np.mean(cross_val_score(Lasso(alpha=bestAlpha), \n",
    "    dfBuildIny(xTrainUno,bestGrade), yTrainUno, cv=5)))"
   ]
  },
  {
   "cell_type": "markdown",
   "metadata": {},
   "source": [
    "Se obtiene un valor cercano a uno, por lo que entonces se tiene que es un buen modelo. Ahora se hace una búsqueda del mejor parámetro alpha en un rango de valores. "
   ]
  },
  {
   "cell_type": "code",
   "execution_count": 278,
   "metadata": {},
   "outputs": [],
   "source": [
    "alphas = np.arange(0.001,0.2 ,0.001)\n",
    "cvModel = GridSearchCV(Lasso(),\n",
    "                        param_grid={'alpha': degrees},\n",
    "                        scoring='neg_mean_squared_error')\n",
    "cvModel.fit(dfBuildIny(xTrainUno,bestGrade), yTrainUno);"
   ]
  },
  {
   "cell_type": "markdown",
   "metadata": {},
   "source": [
    "Se obtiene el mismo valor para $\\alpha$."
   ]
  },
  {
   "cell_type": "code",
   "execution_count": 279,
   "metadata": {},
   "outputs": [
    {
     "data": {
      "text/plain": [
       "({'alpha': 0.001}, array([ 8.0234504 , -5.97927885, -3.00649076,  1.99261894]))"
      ]
     },
     "execution_count": 279,
     "metadata": {},
     "output_type": "execute_result"
    }
   ],
   "source": [
    "cv_model.best_params_, cv_model.best_estimator_.coef_"
   ]
  },
  {
   "cell_type": "markdown",
   "metadata": {},
   "source": [
    "<!-- -->"
   ]
  },
  {
   "cell_type": "markdown",
   "metadata": {},
   "source": [
    "<!-- -->"
   ]
  },
  {
   "cell_type": "markdown",
   "metadata": {},
   "source": [
    "<!-- -->"
   ]
  },
  {
   "cell_type": "markdown",
   "metadata": {},
   "source": [
    "## Punto 2\n",
    "Creación del operador &(amp) usando una red neuronal secuencial de 3 capas densas. La señal de activación escogida para la capa final es una sigmoidal.\n"
   ]
  },
  {
   "cell_type": "code",
   "execution_count": 96,
   "metadata": {},
   "outputs": [
    {
     "name": "stdout",
     "output_type": "stream",
     "text": [
      "Red para & entrenada\n"
     ]
    }
   ],
   "source": [
    "#Tabla de verdad\n",
    "xTrainAmp = np.array([[0,0],[0,1],[1,0],[1,1]])\n",
    "yTrainAmp = np.array([[1],[1],[1],[0]])\n",
    "\n",
    "#Red neuronal, modelo secuencial de 3 capas densa\n",
    "ampModel = Sequential()\n",
    "ampModel.add(Dense(15, activation='relu',input_dim=2))\n",
    "ampModel.add(Dense(15, activation='relu'))\n",
    "ampModel.add(Dense(15, activation='relu'))\n",
    "ampModel.add(Dense(1, activation='sigmoid'))\n",
    "ampModel.compile(optimizer='rmsprop', loss='mse', metrics=['mae'])\n",
    "\n",
    "#Entrenamiento de la red, observe que se desactivaron los mensajes\n",
    "ampModel.fit(xTrainAmp, yTrainAmp, epochs=epochsDos,verbose=verboseOp)\n",
    "print(\"Red para & entrenada\")"
   ]
  },
  {
   "cell_type": "markdown",
   "metadata": {},
   "source": [
    "Se imprimen los valores que obtiene la red neuronal luego del entrenamiento, deben 'coincidir' con la tabla de verdad."
   ]
  },
  {
   "cell_type": "code",
   "execution_count": 97,
   "metadata": {},
   "outputs": [
    {
     "name": "stdout",
     "output_type": "stream",
     "text": [
      "WARNING:tensorflow:6 out of the last 9 calls to <function Model.make_predict_function.<locals>.predict_function at 0x7f985468c040> triggered tf.function retracing. Tracing is expensive and the excessive number of tracings could be due to (1) creating @tf.function repeatedly in a loop, (2) passing tensors with different shapes, (3) passing Python objects instead of tensors. For (1), please define your @tf.function outside of the loop. For (2), @tf.function has experimental_relax_shapes=True option that relaxes argument shapes that can avoid unnecessary retracing. For (3), please refer to https://www.tensorflow.org/guide/function#controlling_retracing and https://www.tensorflow.org/api_docs/python/tf/function for  more details.\n"
     ]
    },
    {
     "data": {
      "text/html": [
       "<div>\n",
       "<style scoped>\n",
       "    .dataframe tbody tr th:only-of-type {\n",
       "        vertical-align: middle;\n",
       "    }\n",
       "\n",
       "    .dataframe tbody tr th {\n",
       "        vertical-align: top;\n",
       "    }\n",
       "\n",
       "    .dataframe thead th {\n",
       "        text-align: right;\n",
       "    }\n",
       "</style>\n",
       "<table border=\"1\" class=\"dataframe\">\n",
       "  <thead>\n",
       "    <tr style=\"text-align: right;\">\n",
       "      <th></th>\n",
       "      <th>A&amp;B</th>\n",
       "    </tr>\n",
       "  </thead>\n",
       "  <tbody>\n",
       "    <tr>\n",
       "      <th>0</th>\n",
       "      <td>0.530473</td>\n",
       "    </tr>\n",
       "    <tr>\n",
       "      <th>1</th>\n",
       "      <td>0.585677</td>\n",
       "    </tr>\n",
       "    <tr>\n",
       "      <th>2</th>\n",
       "      <td>0.584280</td>\n",
       "    </tr>\n",
       "    <tr>\n",
       "      <th>3</th>\n",
       "      <td>0.569473</td>\n",
       "    </tr>\n",
       "  </tbody>\n",
       "</table>\n",
       "</div>"
      ],
      "text/plain": [
       "        A&B\n",
       "0  0.530473\n",
       "1  0.585677\n",
       "2  0.584280\n",
       "3  0.569473"
      ]
     },
     "execution_count": 97,
     "metadata": {},
     "output_type": "execute_result"
    }
   ],
   "source": [
    "ampPredict = ampModel.predict(xTrainAmp)\n",
    "pd.DataFrame(data={'A&B' : ampPredict.flat})"
   ]
  },
  {
   "cell_type": "markdown",
   "metadata": {},
   "source": [
    "Creación del operador $(dol) usando una red neuronal secuencial de 3 capas densas. La señal de activación escogida para la capa final es una sigmoidal. "
   ]
  },
  {
   "cell_type": "code",
   "execution_count": 98,
   "metadata": {},
   "outputs": [
    {
     "name": "stdout",
     "output_type": "stream",
     "text": [
      "Red para $ entrenada\n"
     ]
    }
   ],
   "source": [
    "#Tabla de verdad\n",
    "xTrainDol = np.array([[0,0],[0,1],[1,0],[1,1]])\n",
    "yTrainDol = np.array([[0],[0],[0],[1]])\n",
    "\n",
    "#Red neuronal secuencial densa de 3 capas\n",
    "dolModel = Sequential()\n",
    "dolModel.add(Dense(15, activation='relu',input_dim=2))\n",
    "dolModel.add(Dense(15, activation='relu'))\n",
    "dolModel.add(Dense(1, activation='sigmoid'))\n",
    "dolModel.compile(optimizer='rmsprop', loss='mse', metrics=['mae'])\n",
    "\n",
    "#Entrenamiento de la red, observe que se desactivaron los mensajes\n",
    "dolModel.fit(xTrainDol, yTrainDol, epochs=epochsDos,verbose=verboseOp)\n",
    "print(\"Red para $ entrenada\")"
   ]
  },
  {
   "cell_type": "markdown",
   "metadata": {},
   "source": [
    "Se imprimen los valores que obtiene la red neuronal luego del entrenamiento, deben 'coincidir' con la tabla de verdad."
   ]
  },
  {
   "cell_type": "code",
   "execution_count": 99,
   "metadata": {
    "scrolled": false
   },
   "outputs": [
    {
     "name": "stdout",
     "output_type": "stream",
     "text": [
      "WARNING:tensorflow:7 out of the last 10 calls to <function Model.make_predict_function.<locals>.predict_function at 0x7f98547e2310> triggered tf.function retracing. Tracing is expensive and the excessive number of tracings could be due to (1) creating @tf.function repeatedly in a loop, (2) passing tensors with different shapes, (3) passing Python objects instead of tensors. For (1), please define your @tf.function outside of the loop. For (2), @tf.function has experimental_relax_shapes=True option that relaxes argument shapes that can avoid unnecessary retracing. For (3), please refer to https://www.tensorflow.org/guide/function#controlling_retracing and https://www.tensorflow.org/api_docs/python/tf/function for  more details.\n"
     ]
    },
    {
     "data": {
      "text/html": [
       "<div>\n",
       "<style scoped>\n",
       "    .dataframe tbody tr th:only-of-type {\n",
       "        vertical-align: middle;\n",
       "    }\n",
       "\n",
       "    .dataframe tbody tr th {\n",
       "        vertical-align: top;\n",
       "    }\n",
       "\n",
       "    .dataframe thead th {\n",
       "        text-align: right;\n",
       "    }\n",
       "</style>\n",
       "<table border=\"1\" class=\"dataframe\">\n",
       "  <thead>\n",
       "    <tr style=\"text-align: right;\">\n",
       "      <th></th>\n",
       "      <th>A$B</th>\n",
       "    </tr>\n",
       "  </thead>\n",
       "  <tbody>\n",
       "    <tr>\n",
       "      <th>0</th>\n",
       "      <td>0.479179</td>\n",
       "    </tr>\n",
       "    <tr>\n",
       "      <th>1</th>\n",
       "      <td>0.464427</td>\n",
       "    </tr>\n",
       "    <tr>\n",
       "      <th>2</th>\n",
       "      <td>0.407811</td>\n",
       "    </tr>\n",
       "    <tr>\n",
       "      <th>3</th>\n",
       "      <td>0.515800</td>\n",
       "    </tr>\n",
       "  </tbody>\n",
       "</table>\n",
       "</div>"
      ],
      "text/plain": [
       "        A$B\n",
       "0  0.479179\n",
       "1  0.464427\n",
       "2  0.407811\n",
       "3  0.515800"
      ]
     },
     "execution_count": 99,
     "metadata": {},
     "output_type": "execute_result"
    }
   ],
   "source": [
    "dolPredict = dolModel.predict(xTrainDol)\n",
    "pd.DataFrame(data={'A$B' : dolPredict.flat})"
   ]
  },
  {
   "cell_type": "markdown",
   "metadata": {},
   "source": [
    "Cómputo de la operación *(A&B)$C*."
   ]
  },
  {
   "cell_type": "code",
   "execution_count": 100,
   "metadata": {},
   "outputs": [
    {
     "name": "stdout",
     "output_type": "stream",
     "text": [
      "WARNING:tensorflow:8 out of the last 11 calls to <function Model.make_predict_function.<locals>.predict_function at 0x7f985468c040> triggered tf.function retracing. Tracing is expensive and the excessive number of tracings could be due to (1) creating @tf.function repeatedly in a loop, (2) passing tensors with different shapes, (3) passing Python objects instead of tensors. For (1), please define your @tf.function outside of the loop. For (2), @tf.function has experimental_relax_shapes=True option that relaxes argument shapes that can avoid unnecessary retracing. For (3), please refer to https://www.tensorflow.org/guide/function#controlling_retracing and https://www.tensorflow.org/api_docs/python/tf/function for  more details.\n",
      "WARNING:tensorflow:8 out of the last 11 calls to <function Model.make_predict_function.<locals>.predict_function at 0x7f98547e2310> triggered tf.function retracing. Tracing is expensive and the excessive number of tracings could be due to (1) creating @tf.function repeatedly in a loop, (2) passing tensors with different shapes, (3) passing Python objects instead of tensors. For (1), please define your @tf.function outside of the loop. For (2), @tf.function has experimental_relax_shapes=True option that relaxes argument shapes that can avoid unnecessary retracing. For (3), please refer to https://www.tensorflow.org/guide/function#controlling_retracing and https://www.tensorflow.org/api_docs/python/tf/function for  more details.\n"
     ]
    },
    {
     "data": {
      "text/html": [
       "<div>\n",
       "<style scoped>\n",
       "    .dataframe tbody tr th:only-of-type {\n",
       "        vertical-align: middle;\n",
       "    }\n",
       "\n",
       "    .dataframe tbody tr th {\n",
       "        vertical-align: top;\n",
       "    }\n",
       "\n",
       "    .dataframe thead th {\n",
       "        text-align: right;\n",
       "    }\n",
       "</style>\n",
       "<table border=\"1\" class=\"dataframe\">\n",
       "  <thead>\n",
       "    <tr style=\"text-align: right;\">\n",
       "      <th></th>\n",
       "      <th>A</th>\n",
       "      <th>B</th>\n",
       "      <th>A&amp;B</th>\n",
       "      <th>C</th>\n",
       "      <th>(A&amp;B)$C</th>\n",
       "    </tr>\n",
       "  </thead>\n",
       "  <tbody>\n",
       "    <tr>\n",
       "      <th>0</th>\n",
       "      <td>1.001</td>\n",
       "      <td>0</td>\n",
       "      <td>0.584329</td>\n",
       "      <td>0</td>\n",
       "      <td>0.439411</td>\n",
       "    </tr>\n",
       "    <tr>\n",
       "      <th>1</th>\n",
       "      <td>0.000</td>\n",
       "      <td>1</td>\n",
       "      <td>0.585677</td>\n",
       "      <td>1</td>\n",
       "      <td>0.500973</td>\n",
       "    </tr>\n",
       "    <tr>\n",
       "      <th>2</th>\n",
       "      <td>0.001</td>\n",
       "      <td>0</td>\n",
       "      <td>0.530487</td>\n",
       "      <td>1</td>\n",
       "      <td>0.498976</td>\n",
       "    </tr>\n",
       "    <tr>\n",
       "      <th>3</th>\n",
       "      <td>1.000</td>\n",
       "      <td>1</td>\n",
       "      <td>0.569473</td>\n",
       "      <td>0</td>\n",
       "      <td>0.440552</td>\n",
       "    </tr>\n",
       "  </tbody>\n",
       "</table>\n",
       "</div>"
      ],
      "text/plain": [
       "       A  B       A&B  C   (A&B)$C\n",
       "0  1.001  0  0.584329  0  0.439411\n",
       "1  0.000  1  0.585677  1  0.500973\n",
       "2  0.001  0  0.530487  1  0.498976\n",
       "3  1.000  1  0.569473  0  0.440552"
      ]
     },
     "execution_count": 100,
     "metadata": {},
     "output_type": "execute_result"
    }
   ],
   "source": [
    "#Representación de las entradas para A&B\n",
    "A1 = np.array([[1.001,0], [0,1], [0.001,0], [1,1]])\n",
    "#Cómputo de A&B\n",
    "amp1 = ampModel.predict(A1)\n",
    "#Representación de la entrada para (A&B)$C\n",
    "A2 = np.array([[amp1[0][0],0], [amp1[1][0],1], [amp1[2][0],1], [amp1[3][0],0]])\n",
    "#Cómputo de (A&B)$C\n",
    "sol = dolModel.predict(A2)\n",
    "#Impresión de las tablas\n",
    "pd.DataFrame(data={ 'A' :  [1.001,0,0.001,1],\n",
    "                    'B' :  [0,1,0,1],\n",
    "                    'A&B' : amp1.flat,\n",
    "                    'C' :  [0,1,1,0], \n",
    "                    '(A&B)$C': sol.flat })"
   ]
  },
  {
   "cell_type": "markdown",
   "metadata": {},
   "source": [
    "<!-- -->\n"
   ]
  },
  {
   "cell_type": "markdown",
   "metadata": {},
   "source": [
    "<!-- -->"
   ]
  },
  {
   "cell_type": "markdown",
   "metadata": {},
   "source": [
    "<!-- -->"
   ]
  },
  {
   "cell_type": "markdown",
   "metadata": {},
   "source": [
    "## Punto 3\n",
    "Se hace la lectura de los datos así como la preparación de los mismos. Para este proyecto los datos se encuentran en el archivo *problem3.csv.*"
   ]
  },
  {
   "cell_type": "code",
   "execution_count": 199,
   "metadata": {},
   "outputs": [
    {
     "data": {
      "text/html": [
       "<div>\n",
       "<style scoped>\n",
       "    .dataframe tbody tr th:only-of-type {\n",
       "        vertical-align: middle;\n",
       "    }\n",
       "\n",
       "    .dataframe tbody tr th {\n",
       "        vertical-align: top;\n",
       "    }\n",
       "\n",
       "    .dataframe thead th {\n",
       "        text-align: right;\n",
       "    }\n",
       "</style>\n",
       "<table border=\"1\" class=\"dataframe\">\n",
       "  <thead>\n",
       "    <tr style=\"text-align: right;\">\n",
       "      <th></th>\n",
       "      <th>x_age</th>\n",
       "      <th>x_cholesterol</th>\n",
       "      <th>x_sugar</th>\n",
       "      <th>x_Tcell</th>\n",
       "      <th>y</th>\n",
       "    </tr>\n",
       "  </thead>\n",
       "  <tbody>\n",
       "    <tr>\n",
       "      <th>0</th>\n",
       "      <td>35</td>\n",
       "      <td>220</td>\n",
       "      <td>80</td>\n",
       "      <td>550</td>\n",
       "      <td>0</td>\n",
       "    </tr>\n",
       "    <tr>\n",
       "      <th>1</th>\n",
       "      <td>18</td>\n",
       "      <td>240</td>\n",
       "      <td>120</td>\n",
       "      <td>600</td>\n",
       "      <td>0</td>\n",
       "    </tr>\n",
       "    <tr>\n",
       "      <th>2</th>\n",
       "      <td>22</td>\n",
       "      <td>260</td>\n",
       "      <td>55</td>\n",
       "      <td>580</td>\n",
       "      <td>0</td>\n",
       "    </tr>\n",
       "  </tbody>\n",
       "</table>\n",
       "</div>"
      ],
      "text/plain": [
       "   x_age  x_cholesterol  x_sugar  x_Tcell  y\n",
       "0     35            220       80      550  0\n",
       "1     18            240      120      600  0\n",
       "2     22            260       55      580  0"
      ]
     },
     "execution_count": 199,
     "metadata": {},
     "output_type": "execute_result"
    }
   ],
   "source": [
    "archivoTres = \"problem3.csv\"\n",
    "datosTres = pd.read_csv(archivoTres)\n",
    "datosTres.head(3)"
   ]
  },
  {
   "cell_type": "markdown",
   "metadata": {},
   "source": [
    "Gráficas de los datos"
   ]
  },
  {
   "cell_type": "code",
   "execution_count": 200,
   "metadata": {},
   "outputs": [
    {
     "data": {
      "image/png": "[encoded data removed]",
      "text/plain": [
       "<Figure size 762.375x720 with 20 Axes>"
      ]
     },
     "metadata": {
      "needs_background": "light"
     },
     "output_type": "display_data"
    }
   ],
   "source": [
    "import seaborn as sns\n",
    "sns.pairplot(datosTres, hue='y', markers='o')\n",
    "plt.show()"
   ]
  },
  {
   "cell_type": "markdown",
   "metadata": {},
   "source": [
    "Se imprime una matriz de correlación para poder encontrar las variables que mejor nos separen los datos."
   ]
  },
  {
   "cell_type": "markdown",
   "metadata": {},
   "source": [
    "Se dividen los datos para el entrenamiento y la validación."
   ]
  },
  {
   "cell_type": "code",
   "execution_count": 222,
   "metadata": {},
   "outputs": [
    {
     "data": {
      "text/plain": [
       "3    0\n",
       "2    0\n",
       "7    1\n",
       "Name: y, dtype: int64"
      ]
     },
     "execution_count": 222,
     "metadata": {},
     "output_type": "execute_result"
    }
   ],
   "source": [
    "from sklearn.model_selection import train_test_split\n",
    "xTrainTres, xTestTres, yTrainTres, yTestTres = train_test_split(\n",
    "    datosTres[['x_sugar']], datosTres['y'], test_size=0.2, random_state= 50)\n",
    "yTrainTres.head(3)"
   ]
  },
  {
   "cell_type": "markdown",
   "metadata": {},
   "source": [
    "Construcción del modelo de clasificación, se usa una red neuronal secuencial densa de 3 capas."
   ]
  },
  {
   "cell_type": "code",
   "execution_count": 223,
   "metadata": {},
   "outputs": [],
   "source": [
    "def classification_model():\n",
    "    model = Sequential()\n",
    "    model.add(Dense(8, activation='relu', input_dim=1))\n",
    "    model.add(Dense(10, activation='relu'))\n",
    "    model.add(Dense(10, activation='relu'))\n",
    "    model.add(Dense(1, activation='sigmoid'))\n",
    "    model.compile(optimizer='adam', \n",
    "                  loss='binary_crossentropy', metrics=['accuracy'])\n",
    "    #model.compile(Adam(lr=0.04),'categorical_crossentropy',metrics=['accuracy'])\n",
    "    return model"
   ]
  },
  {
   "cell_type": "markdown",
   "metadata": {},
   "source": [
    "Se instancia la red neuronal"
   ]
  },
  {
   "cell_type": "code",
   "execution_count": 224,
   "metadata": {},
   "outputs": [],
   "source": [
    "#Observe que se desactivaron los mensajes de Keras\n",
    "classifier = KerasClassifier(build_fn = classification_model, \n",
    "                             epochs=epochsTres, batch_size=5, verbose=verboseOp)\n",
    "kfold = KFold(n_splits=3)"
   ]
  },
  {
   "cell_type": "code",
   "execution_count": 219,
   "metadata": {},
   "outputs": [
    {
     "name": "stdout",
     "output_type": "stream",
     "text": [
      "WARNING:tensorflow:11 out of the last 11 calls to <function Model.make_test_function.<locals>.test_function at 0x7f98740ba4c0> triggered tf.function retracing. Tracing is expensive and the excessive number of tracings could be due to (1) creating @tf.function repeatedly in a loop, (2) passing tensors with different shapes, (3) passing Python objects instead of tensors. For (1), please define your @tf.function outside of the loop. For (2), @tf.function has experimental_relax_shapes=True option that relaxes argument shapes that can avoid unnecessary retracing. For (3), please refer to https://www.tensorflow.org/guide/function#controlling_retracing and https://www.tensorflow.org/api_docs/python/tf/function for  more details.\n",
      "WARNING:tensorflow:11 out of the last 11 calls to <function Model.make_test_function.<locals>.test_function at 0x7f985466d430> triggered tf.function retracing. Tracing is expensive and the excessive number of tracings could be due to (1) creating @tf.function repeatedly in a loop, (2) passing tensors with different shapes, (3) passing Python objects instead of tensors. For (1), please define your @tf.function outside of the loop. For (2), @tf.function has experimental_relax_shapes=True option that relaxes argument shapes that can avoid unnecessary retracing. For (3), please refer to https://www.tensorflow.org/guide/function#controlling_retracing and https://www.tensorflow.org/api_docs/python/tf/function for  more details.\n",
      "WARNING:tensorflow:11 out of the last 11 calls to <function Model.make_test_function.<locals>.test_function at 0x7f9898845af0> triggered tf.function retracing. Tracing is expensive and the excessive number of tracings could be due to (1) creating @tf.function repeatedly in a loop, (2) passing tensors with different shapes, (3) passing Python objects instead of tensors. For (1), please define your @tf.function outside of the loop. For (2), @tf.function has experimental_relax_shapes=True option that relaxes argument shapes that can avoid unnecessary retracing. For (3), please refer to https://www.tensorflow.org/guide/function#controlling_retracing and https://www.tensorflow.org/api_docs/python/tf/function for  more details.\n"
     ]
    }
   ],
   "source": [
    "results = cross_val_score(classifier, xTrainTres, yTrainTres, cv = kfold,verbose=0)\n"
   ]
  },
  {
   "cell_type": "code",
   "execution_count": 220,
   "metadata": {},
   "outputs": [
    {
     "name": "stdout",
     "output_type": "stream",
     "text": [
      "Rendimiento del modelo: Media: 66.667% std: (0.00%)\n"
     ]
    }
   ],
   "source": [
    "\n",
    "print(\"Rendimiento del modelo: Media: %.3f%% std: (%.2f%%)\" % (results.mean()*100, results.std()*100))"
   ]
  },
  {
   "cell_type": "code",
   "execution_count": 221,
   "metadata": {
    "scrolled": true
   },
   "outputs": [
    {
     "name": "stdout",
     "output_type": "stream",
     "text": [
      "WARNING:tensorflow:11 out of the last 11 calls to <function Model.make_test_function.<locals>.test_function at 0x7f9874a2b5e0> triggered tf.function retracing. Tracing is expensive and the excessive number of tracings could be due to (1) creating @tf.function repeatedly in a loop, (2) passing tensors with different shapes, (3) passing Python objects instead of tensors. For (1), please define your @tf.function outside of the loop. For (2), @tf.function has experimental_relax_shapes=True option that relaxes argument shapes that can avoid unnecessary retracing. For (3), please refer to https://www.tensorflow.org/guide/function#controlling_retracing and https://www.tensorflow.org/api_docs/python/tf/function for  more details.\n",
      "1/1 [==============================] - 0s 306ms/step - loss: 3.0090e-05 - accuracy: 1.0000\n",
      "Accuracy: 1.0% \n",
      " Error: 0.0\n"
     ]
    }
   ],
   "source": [
    "model = classification_model()\n",
    "model.fit(xTrainTres, yTrainTres, epochs=epochsTres, verbose=0)\n",
    "scores = model.evaluate(xTestTres,yTestTres)\n",
    "print('Accuracy: {}% \\n Error: {}'.format(scores[1], 1 - scores[1]))   "
   ]
  },
  {
   "cell_type": "markdown",
   "metadata": {},
   "source": [
    "<!-- --> "
   ]
  },
  {
   "cell_type": "markdown",
   "metadata": {},
   "source": [
    "<!-- -->"
   ]
  },
  {
   "cell_type": "markdown",
   "metadata": {},
   "source": [
    "<!-- -->"
   ]
  },
  {
   "cell_type": "markdown",
   "metadata": {},
   "source": [
    "## Punto 4\n",
    "Se generan 500 puntos aleatorios para generar los datos de entrenamiento."
   ]
  },
  {
   "cell_type": "code",
   "execution_count": 225,
   "metadata": {},
   "outputs": [],
   "source": [
    "xTrainCuatro = randn(trainSize)\n",
    "yTrainCuatro = randn(trainSize)"
   ]
  },
  {
   "cell_type": "markdown",
   "metadata": {},
   "source": [
    "Se define el cono, $\\frac{x^{2}}{2} + \\frac{y^{2}}{2} = z^{2}$."
   ]
  },
  {
   "cell_type": "code",
   "execution_count": 226,
   "metadata": {},
   "outputs": [],
   "source": [
    "def Cono(x,y):\n",
    "    return (x**2)/2 + (y**2)/2"
   ]
  },
  {
   "cell_type": "markdown",
   "metadata": {},
   "source": [
    "A partir de los puntos (x,y) se generan los puntos z."
   ]
  },
  {
   "cell_type": "code",
   "execution_count": 227,
   "metadata": {
    "scrolled": true
   },
   "outputs": [],
   "source": [
    "zTrainCuatro = Cono(xTrainCuatro,yTrainCuatro)\n"
   ]
  },
  {
   "cell_type": "markdown",
   "metadata": {},
   "source": [
    "Construcción del DataFrame con los datos (x,y)."
   ]
  },
  {
   "cell_type": "code",
   "execution_count": 228,
   "metadata": {
    "scrolled": true
   },
   "outputs": [
    {
     "data": {
      "text/html": [
       "<div>\n",
       "<style scoped>\n",
       "    .dataframe tbody tr th:only-of-type {\n",
       "        vertical-align: middle;\n",
       "    }\n",
       "\n",
       "    .dataframe tbody tr th {\n",
       "        vertical-align: top;\n",
       "    }\n",
       "\n",
       "    .dataframe thead th {\n",
       "        text-align: right;\n",
       "    }\n",
       "</style>\n",
       "<table border=\"1\" class=\"dataframe\">\n",
       "  <thead>\n",
       "    <tr style=\"text-align: right;\">\n",
       "      <th></th>\n",
       "      <th>x</th>\n",
       "      <th>y</th>\n",
       "    </tr>\n",
       "  </thead>\n",
       "  <tbody>\n",
       "    <tr>\n",
       "      <th>0</th>\n",
       "      <td>-0.388525</td>\n",
       "      <td>-0.736041</td>\n",
       "    </tr>\n",
       "    <tr>\n",
       "      <th>1</th>\n",
       "      <td>1.163053</td>\n",
       "      <td>-0.932493</td>\n",
       "    </tr>\n",
       "    <tr>\n",
       "      <th>2</th>\n",
       "      <td>1.080798</td>\n",
       "      <td>-2.487393</td>\n",
       "    </tr>\n",
       "  </tbody>\n",
       "</table>\n",
       "</div>"
      ],
      "text/plain": [
       "          x         y\n",
       "0 -0.388525 -0.736041\n",
       "1  1.163053 -0.932493\n",
       "2  1.080798 -2.487393"
      ]
     },
     "execution_count": 228,
     "metadata": {},
     "output_type": "execute_result"
    }
   ],
   "source": [
    "trainCuatro = pd.DataFrame({'x': xTrainCuatro, 'y': yTrainCuatro})\n",
    "trainCuatro.head(3)"
   ]
  },
  {
   "cell_type": "markdown",
   "metadata": {},
   "source": [
    "Se crea la red neuronal, secuencial densa de 3 capas con 2 variables de entrada."
   ]
  },
  {
   "cell_type": "code",
   "execution_count": 229,
   "metadata": {},
   "outputs": [],
   "source": [
    "redCono = Sequential()\n",
    "redCono.add(Dense(16, activation='relu', input_shape=(2,)))\n",
    "redCono.add(Dense(16, activation='relu'))\n",
    "redCono.add(Dense(16, activation='relu'))\n",
    "redCono.add(Dense(16, activation='relu'))\n",
    "redCono.add(Dense(1, activation='relu'))\n",
    "    \n",
    "redCono.compile(optimizer='rmsprop', loss='mse', metrics=['mae'])"
   ]
  },
  {
   "cell_type": "markdown",
   "metadata": {},
   "source": [
    "Entrenamiento de la red neuronal"
   ]
  },
  {
   "cell_type": "code",
   "execution_count": 230,
   "metadata": {
    "scrolled": true
   },
   "outputs": [
    {
     "name": "stdout",
     "output_type": "stream",
     "text": [
      "WARNING:tensorflow:11 out of the last 11 calls to <function Model.make_test_function.<locals>.test_function at 0x7f98740bae50> triggered tf.function retracing. Tracing is expensive and the excessive number of tracings could be due to (1) creating @tf.function repeatedly in a loop, (2) passing tensors with different shapes, (3) passing Python objects instead of tensors. For (1), please define your @tf.function outside of the loop. For (2), @tf.function has experimental_relax_shapes=True option that relaxes argument shapes that can avoid unnecessary retracing. For (3), please refer to https://www.tensorflow.org/guide/function#controlling_retracing and https://www.tensorflow.org/api_docs/python/tf/function for  more details.\n",
      "Red para el Cono entrenada\n"
     ]
    }
   ],
   "source": [
    "resultadosCono = redCono.fit( trainCuatro,  zTrainCuatro, \n",
    "                       validation_split=0.3, epochs=epochsCuatro, verbose=verboseOp)\n",
    "print(\"Red para el Cono entrenada\")"
   ]
  },
  {
   "cell_type": "code",
   "execution_count": 231,
   "metadata": {
    "scrolled": true
   },
   "outputs": [
    {
     "data": {
      "image/png": "[encoded data removed]",
      "text/plain": [
       "<Figure size 432x288 with 1 Axes>"
      ]
     },
     "metadata": {
      "needs_background": "light"
     },
     "output_type": "display_data"
    }
   ],
   "source": [
    "plt.plot(resultadosCono.history['loss'],label=\"Entranamiento\")\n",
    "plt.plot(resultadosCono.history['val_loss'],label=\"Validación\")\n",
    "plt.ylabel('Loss')\n",
    "plt.xlabel('Epoch')\n",
    "plt.legend(loc='best', frameon=False)\n",
    "plt.show()"
   ]
  },
  {
   "cell_type": "markdown",
   "metadata": {},
   "source": [
    "Se define el tamaño de los datos de validación y se generan los puntos para la validación."
   ]
  },
  {
   "cell_type": "code",
   "execution_count": 243,
   "metadata": {},
   "outputs": [
    {
     "data": {
      "text/html": [
       "<div>\n",
       "<style scoped>\n",
       "    .dataframe tbody tr th:only-of-type {\n",
       "        vertical-align: middle;\n",
       "    }\n",
       "\n",
       "    .dataframe tbody tr th {\n",
       "        vertical-align: top;\n",
       "    }\n",
       "\n",
       "    .dataframe thead th {\n",
       "        text-align: right;\n",
       "    }\n",
       "</style>\n",
       "<table border=\"1\" class=\"dataframe\">\n",
       "  <thead>\n",
       "    <tr style=\"text-align: right;\">\n",
       "      <th></th>\n",
       "      <th>x</th>\n",
       "      <th>y</th>\n",
       "    </tr>\n",
       "  </thead>\n",
       "  <tbody>\n",
       "    <tr>\n",
       "      <th>0</th>\n",
       "      <td>-0.111856</td>\n",
       "      <td>1.607937</td>\n",
       "    </tr>\n",
       "    <tr>\n",
       "      <th>1</th>\n",
       "      <td>-1.301425</td>\n",
       "      <td>-0.421039</td>\n",
       "    </tr>\n",
       "    <tr>\n",
       "      <th>2</th>\n",
       "      <td>0.040690</td>\n",
       "      <td>-0.354920</td>\n",
       "    </tr>\n",
       "    <tr>\n",
       "      <th>3</th>\n",
       "      <td>0.051009</td>\n",
       "      <td>-1.081890</td>\n",
       "    </tr>\n",
       "    <tr>\n",
       "      <th>4</th>\n",
       "      <td>0.153321</td>\n",
       "      <td>1.414731</td>\n",
       "    </tr>\n",
       "  </tbody>\n",
       "</table>\n",
       "</div>"
      ],
      "text/plain": [
       "          x         y\n",
       "0 -0.111856  1.607937\n",
       "1 -1.301425 -0.421039\n",
       "2  0.040690 -0.354920\n",
       "3  0.051009 -1.081890\n",
       "4  0.153321  1.414731"
      ]
     },
     "execution_count": 243,
     "metadata": {},
     "output_type": "execute_result"
    }
   ],
   "source": [
    "xTestCuatro = randn(testSize)\n",
    "yTestCuatro = randn(testSize)\n",
    "testCuatro = pd.DataFrame({'x': xTestCuatro, 'y': yTestCuatro})\n",
    "testCuatro.head()"
   ]
  },
  {
   "cell_type": "code",
   "execution_count": 244,
   "metadata": {},
   "outputs": [
    {
     "name": "stdout",
     "output_type": "stream",
     "text": [
      "157/157 [==============================] - 0s 2ms/step - loss: 0.7475 - mae: 0.5267\n"
     ]
    },
    {
     "data": {
      "text/plain": [
       "0.5266589522361755"
      ]
     },
     "execution_count": 244,
     "metadata": {},
     "output_type": "execute_result"
    }
   ],
   "source": [
    "test_mse_score, test_mae_score = redCono.evaluate(\n",
    "    testCuatro, Cono(xTestCuatro,yTestCuatro))\n",
    "test_mae_score"
   ]
  },
  {
   "cell_type": "markdown",
   "metadata": {},
   "source": [
    "Se generan las predicciones para el conjunto de datos de validación."
   ]
  },
  {
   "cell_type": "code",
   "execution_count": 245,
   "metadata": {},
   "outputs": [],
   "source": [
    "prediccionesCono = redCono.predict(testCuatro)"
   ]
  },
  {
   "cell_type": "markdown",
   "metadata": {},
   "source": [
    "Se grafican los datos reales versus los predecidos."
   ]
  },
  {
   "cell_type": "code",
   "execution_count": 246,
   "metadata": {},
   "outputs": [
    {
     "data": {
      "image/png": "[encoded data removed]",
      "text/plain": [
       "<Figure size 432x288 with 1 Axes>"
      ]
     },
     "metadata": {
      "needs_background": "light"
     },
     "output_type": "display_data"
    }
   ],
   "source": [
    "plt.plot(np.arange(testSize),Cono(xTestCuatro,yTestCuatro),label=\"Reales\")\n",
    "plt.plot(np.arange(testSize),prediccionesCono,label=\"Predicción\")\n",
    "plt.legend(loc='best', frameon=False)\n",
    "plt.ylabel('y')\n",
    "plt.xlabel('Indice')\n",
    "plt.show()"
   ]
  },
  {
   "cell_type": "markdown",
   "metadata": {},
   "source": [
    "Se dibuja el cono con los datos predecidos."
   ]
  },
  {
   "cell_type": "code",
   "execution_count": 247,
   "metadata": {
    "scrolled": true
   },
   "outputs": [
    {
     "data": {
      "image/png": "[encoded data removed]",
      "text/plain": [
       "<Figure size 720x504 with 1 Axes>"
      ]
     },
     "metadata": {
      "needs_background": "light"
     },
     "output_type": "display_data"
    }
   ],
   "source": [
    "import matplotlib.pyplot as plt\n",
    "from mpl_toolkits.mplot3d import Axes3D\n",
    "fig = plt.figure(figsize=(10, 7))\n",
    "ax = fig.add_subplot( projection='3d')\n",
    "ax.scatter(xTestCuatro,yTestCuatro,prediccionesCono,c=prediccionesCono)\n",
    "plt.show()"
   ]
  },
  {
   "cell_type": "markdown",
   "metadata": {},
   "source": [
    "<!-- --> "
   ]
  },
  {
   "cell_type": "markdown",
   "metadata": {},
   "source": [
    "<!-- --> "
   ]
  },
  {
   "cell_type": "markdown",
   "metadata": {},
   "source": [
    "<!-- --> "
   ]
  },
  {
   "cell_type": "markdown",
   "metadata": {},
   "source": [
    "<!-- --> "
   ]
  },
  {
   "cell_type": "markdown",
   "metadata": {},
   "source": [
    "## Conclusiones\n",
    "- La calibración de paramétros (epoch, activation, etc) es un paso fundamental en el \n",
    "trabajo con redes neuronales. Sin embargo como menciona [1] no existe una manera exacta y se deben probar distintas configuraciones para obtener la mejor. "
   ]
  },
  {
   "cell_type": "markdown",
   "metadata": {},
   "source": [
    "## Referencias\n",
    "- [Polynomial Regression Using Scikit](https://stats.stackexchange.com/questions/58739/polynomial-regression-using-scikit-learn)\n",
    "- [Creating a simple neural network in Python ](https://broutonlab.com/blog/tutorial-create-simple-neural-network)\n",
    "- [Using cross-validation to evaluate different models — Regression](https://medium.com/analytics-vidhya/using-cross-validation-to-evaluate-different-models-regression-5f61ec89531)"
   ]
  },
  {
   "cell_type": "code",
   "execution_count": null,
   "metadata": {},
   "outputs": [],
   "source": []
  }
 ],
 "metadata": {
  "kernelspec": {
   "display_name": "Python 3",
   "language": "python",
   "name": "python3"
  },
  "language_info": {
   "codemirror_mode": {
    "name": "ipython",
    "version": 3
   },
   "file_extension": ".py",
   "mimetype": "text/x-python",
   "name": "python",
   "nbconvert_exporter": "python",
   "pygments_lexer": "ipython3",
   "version": "3.9.1"
  }
 },
 "nbformat": 4,
 "nbformat_minor": 4
}
